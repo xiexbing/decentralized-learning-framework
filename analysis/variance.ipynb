{
 "cells": [
  {
   "cell_type": "code",
   "execution_count": 55,
   "metadata": {},
   "outputs": [],
   "source": [
    "import numpy as np\n",
    "import math\n",
    "from sklearn.ensemble import IsolationForest\n",
    "from sklearn.mixture import GaussianMixture\n",
    "from sklearn.neighbors import NearestNeighbors"
   ]
  },
  {
   "cell_type": "code",
   "execution_count": 7,
   "metadata": {},
   "outputs": [
    {
     "data": {
      "text/plain": [
       "array([1, 2, 3, 4])"
      ]
     },
     "execution_count": 7,
     "metadata": {},
     "output_type": "execute_result"
    }
   ],
   "source": [
    "data = np.arange(1, 5)\n",
    "data"
   ]
  },
  {
   "cell_type": "code",
   "execution_count": 4,
   "metadata": {},
   "outputs": [
    {
     "data": {
      "text/plain": [
       "(0.5, 0.5)"
      ]
     },
     "execution_count": 4,
     "metadata": {},
     "output_type": "execute_result"
    }
   ],
   "source": [
    "def index_of_dispersion(data):\n",
    "    return np.var(data)/np.average(data)\n",
    "\n",
    "avg = 0\n",
    "for n in data:\n",
    "    avg += n\n",
    "avg /= len(data)\n",
    "var = 0\n",
    "for n in data:\n",
    "    var += (n-avg)**2\n",
    "var /= len(data)\n",
    "\n",
    "index_of_dispersion(data), var/avg"
   ]
  },
  {
   "cell_type": "code",
   "execution_count": 6,
   "metadata": {},
   "outputs": [
    {
     "data": {
      "text/plain": [
       "(0.447213595499958, 0.447213595499958)"
      ]
     },
     "execution_count": 6,
     "metadata": {},
     "output_type": "execute_result"
    }
   ],
   "source": [
    "def coefficient_of_var(data):\n",
    "    return math.sqrt(np.var(data))/np.average(data)\n",
    "\n",
    "avg = 0\n",
    "for n in data:\n",
    "    avg += n\n",
    "avg /= len(data)\n",
    "var = 0\n",
    "for n in data:\n",
    "    var += (n-avg)**2\n",
    "var /= len(data)\n",
    "\n",
    "coefficient_of_var(data), math.sqrt(var)/avg"
   ]
  },
  {
   "cell_type": "code",
   "execution_count": 11,
   "metadata": {},
   "outputs": [
    {
     "name": "stdout",
     "output_type": "stream",
     "text": [
      "2 4\n"
     ]
    },
    {
     "data": {
      "text/plain": [
       "0.3333333333333333"
      ]
     },
     "execution_count": 11,
     "metadata": {},
     "output_type": "execute_result"
    }
   ],
   "source": [
    "def quartile_coefficient_of_dispersion(data):\n",
    "    data = np.sort(data)\n",
    "    q1 = data[int(len(data)*0.25)]\n",
    "    q3 = data[int(len(data)*0.75)]\n",
    "    print(q1, q3)\n",
    "    return (q3-q1)/(q3+q1)\n",
    "    \n",
    "quartile_coefficient_of_dispersion(data)"
   ]
  },
  {
   "cell_type": "code",
   "execution_count": 13,
   "metadata": {},
   "outputs": [
    {
     "data": {
      "text/plain": [
       "(2.0, 2.0)"
      ]
     },
     "execution_count": 13,
     "metadata": {},
     "output_type": "execute_result"
    }
   ],
   "source": [
    "def entropy(data, bin_size):\n",
    "    minn = min(data)\n",
    "    \n",
    "    dist = {}\n",
    "    for n in data:\n",
    "        bin_num = int((n-minn)/bin_size)\n",
    "        if bin_num in dist:\n",
    "            dist[bin_num] += 1\n",
    "        else:\n",
    "            dist[bin_num] = 1\n",
    "    \n",
    "    ret = 0\n",
    "    for bin_num in dist:\n",
    "        p = dist[bin_num]/len(data)\n",
    "        ret -= p*math.log2(p)\n",
    "    return ret\n",
    "\n",
    "entropy(data, 1), math.log2(4)"
   ]
  },
  {
   "cell_type": "code",
   "execution_count": 14,
   "metadata": {},
   "outputs": [
    {
     "data": {
      "text/plain": [
       "0.25"
      ]
     },
     "execution_count": 14,
     "metadata": {},
     "output_type": "execute_result"
    }
   ],
   "source": [
    "def gini(data):\n",
    "    ret = 0\n",
    "    for i in range(len(data)-1):\n",
    "        for j in range(i+1, len(data)):\n",
    "            ret += abs(data[i]-data[j])\n",
    "    ret *= 2\n",
    "    ret /= (2*len(data)**2*np.average(data))\n",
    "    return ret\n",
    "\n",
    "gini(data)"
   ]
  },
  {
   "cell_type": "code",
   "execution_count": 25,
   "metadata": {},
   "outputs": [
    {
     "data": {
      "text/plain": [
       "0.25"
      ]
     },
     "execution_count": 25,
     "metadata": {},
     "output_type": "execute_result"
    }
   ],
   "source": [
    "def gini_coef(wealths):\n",
    "    cum_wealths = np.cumsum(sorted(np.append(wealths, 0)))\n",
    "    sum_wealths = cum_wealths[-1]\n",
    "    xarray = np.array(range(0, len(cum_wealths))) / np.float(len(cum_wealths)-1)\n",
    "    yarray = cum_wealths / float(sum_wealths)\n",
    "    B = np.trapz(yarray, x=xarray)\n",
    "    A = 0.5 - B\n",
    "    return A / (A+B)\n",
    "\n",
    "gini_coef(data)"
   ]
  },
  {
   "cell_type": "code",
   "execution_count": 26,
   "metadata": {},
   "outputs": [
    {
     "data": {
      "text/plain": [
       "(0.5, 0.5)"
      ]
     },
     "execution_count": 26,
     "metadata": {},
     "output_type": "execute_result"
    }
   ],
   "source": [
    "gini(np.array([0, 1])), gini_coef(np.array([0, 1]))"
   ]
  },
  {
   "cell_type": "code",
   "execution_count": 29,
   "metadata": {},
   "outputs": [
    {
     "data": {
      "text/plain": [
       "1.0"
      ]
     },
     "execution_count": 29,
     "metadata": {},
     "output_type": "execute_result"
    }
   ],
   "source": [
    "gini(np.array([-1, 3]))"
   ]
  },
  {
   "cell_type": "markdown",
   "metadata": {},
   "source": [
    "## Anomaly Detection"
   ]
  },
  {
   "cell_type": "code",
   "execution_count": 41,
   "metadata": {},
   "outputs": [
    {
     "name": "stderr",
     "output_type": "stream",
     "text": [
      "/home/xzhang/miniconda3/lib/python3.7/site-packages/sklearn/ensemble/iforest.py:214: FutureWarning: default contamination parameter 0.1 will change in version 0.22 to \"auto\". This will change the predict method behavior.\n",
      "  FutureWarning)\n",
      "/home/xzhang/miniconda3/lib/python3.7/site-packages/sklearn/ensemble/iforest.py:224: FutureWarning: behaviour=\"old\" is deprecated and will be removed in version 0.22. Please use behaviour=\"new\", which makes the decision_function change to match other anomaly detection algorithm API.\n",
      "  FutureWarning)\n",
      "/home/xzhang/miniconda3/lib/python3.7/site-packages/sklearn/ensemble/iforest.py:418: DeprecationWarning: threshold_ attribute is deprecated in 0.20 and will be removed in 0.22.\n",
      "  \" be removed in 0.22.\", DeprecationWarning)\n"
     ]
    },
    {
     "data": {
      "text/plain": [
       "(array([ 1,  1,  1, -1, -1, -1]),\n",
       " array([0.1381395 , 0.1381395 , 0.1381395 , 0.13574136, 0.13574136,\n",
       "        0.13574136]))"
      ]
     },
     "execution_count": 41,
     "metadata": {},
     "output_type": "execute_result"
    }
   ],
   "source": [
    "X = [[0.3], [0.5], [1], [1.1]]\n",
    "clf = IsolationForest(random_state=0).fit(X)\n",
    "\n",
    "data = [[-1.11], [0.1], [0], [90], [100], [10000000]]\n",
    "clf.predict(data), clf.decision_function(data)"
   ]
  },
  {
   "cell_type": "code",
   "execution_count": 49,
   "metadata": {},
   "outputs": [
    {
     "name": "stdout",
     "output_type": "stream",
     "text": [
      "[[10.  2.]\n",
      " [ 1.  2.]]\n"
     ]
    },
    {
     "data": {
      "text/plain": [
       "array([-4.99996864e+05, -1.99999630e+06,  3.88631622e+00, -4.99000688e+13])"
      ]
     },
     "execution_count": 49,
     "metadata": {},
     "output_type": "execute_result"
    }
   ],
   "source": [
    "X = np.array([[1, 2], [1, 4], [1, 0], [10, 2], [10, 4], [10, 0]])\n",
    "gm = GaussianMixture(n_components=2, random_state=0).fit(X)\n",
    "print(gm.means_)\n",
    "gm.score_samples([[0, 0], [12, 3], [10, 2], [10000, -10000]])"
   ]
  },
  {
   "cell_type": "code",
   "execution_count": 53,
   "metadata": {},
   "outputs": [
    {
     "name": "stdout",
     "output_type": "stream",
     "text": [
      "-45409062749315.414\n"
     ]
    },
    {
     "data": {
      "text/plain": [
       "array([[ 10000, -10000]])"
      ]
     },
     "execution_count": 53,
     "metadata": {},
     "output_type": "execute_result"
    }
   ],
   "source": [
    "x = np.array([[0, 0], [12, 3], [10, 2], [10000, -10000]])\n",
    "scores = gm.score_samples(x)\n",
    "\n",
    "thresh = np.quantile(scores, .03)\n",
    "print(thresh)\n",
    " \n",
    "index = np.where(scores <= thresh)\n",
    "values = x[index]\n",
    "values"
   ]
  },
  {
   "cell_type": "code",
   "execution_count": 63,
   "metadata": {},
   "outputs": [
    {
     "name": "stdout",
     "output_type": "stream",
     "text": [
      "[7.52245197e+00 4.86846162e+00 4.14470233e+00 9.42408565e+03]\n",
      "6.19545679306522\n"
     ]
    },
    {
     "data": {
      "text/plain": [
       "(array([0, 3]),)"
      ]
     },
     "execution_count": 63,
     "metadata": {},
     "output_type": "execute_result"
    }
   ],
   "source": [
    "x = np.array([[0, 0], [12, 3], [10, 2], [10000, -10000]])\n",
    "nbrs = NearestNeighbors(n_neighbors = 3)\n",
    "nbrs.fit(x)\n",
    "distances, indexes = nbrs.kneighbors(x)\n",
    "print(distances.mean(axis =1))\n",
    "thresh = np.quantile(distances.mean(axis =1), .5)\n",
    "print(thresh)\n",
    "outlier_index = np.where(distances.mean(axis = 1) > thresh)\n",
    "outlier_index"
   ]
  }
 ],
 "metadata": {
  "kernelspec": {
   "display_name": "Python 3",
   "language": "python",
   "name": "python3"
  },
  "language_info": {
   "codemirror_mode": {
    "name": "ipython",
    "version": 3
   },
   "file_extension": ".py",
   "mimetype": "text/x-python",
   "name": "python",
   "nbconvert_exporter": "python",
   "pygments_lexer": "ipython3",
   "version": "3.7.2"
  }
 },
 "nbformat": 4,
 "nbformat_minor": 2
}
